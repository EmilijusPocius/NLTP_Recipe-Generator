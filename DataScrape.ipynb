{
  "nbformat": 4,
  "nbformat_minor": 0,
  "metadata": {
    "colab": {
      "provenance": [],
      "authorship_tag": "ABX9TyOZpAWej41iEsczmAdmy/2D"
    },
    "kernelspec": {
      "name": "python3",
      "display_name": "Python 3"
    },
    "language_info": {
      "name": "python"
    }
  },
  "cells": [
    {
      "cell_type": "code",
      "execution_count": 1,
      "metadata": {
        "id": "K8Q-a9jutErP"
      },
      "outputs": [],
      "source": [
        "from bs4 import BeautifulSoup\n",
        "import requests\n",
        "import time\n",
        "from tqdm import tqdm, trange"
      ]
    },
    {
      "cell_type": "code",
      "source": [
        "url = \"https://www.lamaistas.lt/visi-receptai/\"\n",
        "output_file = \"urls.txt\""
      ],
      "metadata": {
        "id": "2TLWY8eNxXKj"
      },
      "execution_count": 2,
      "outputs": []
    },
    {
      "cell_type": "code",
      "source": [
        "n = round(25419/44)\n",
        "def Scrape(url, output_file):\n",
        "    headers = {\"User-Agent\": \"Mozilla/5.0\"}\n",
        "\n",
        "    for i in tqdm(range(1, n+1), desc=\"Scraping pages\"):\n",
        "        new_url = f\"{url}{i}\"\n",
        "        try:\n",
        "            response = requests.get(new_url, headers=headers)\n",
        "            soup = BeautifulSoup(response.text, \"html.parser\")\n",
        "\n",
        "            for a in soup.find_all(\"a\", href=True):\n",
        "                if \"/receptas/\" in a[\"href\"]:\n",
        "                    full_link = a[\"href\"]\n",
        "                    with open(output_file, \"a\", encoding=\"utf-8\") as f:\n",
        "                        f.write(full_link + \"\\n\")\n",
        "            time.sleep(0.3)\n",
        "        except:\n",
        "            print(f\"Error in page {i}\")\n",
        "            continue"
      ],
      "metadata": {
        "id": "66DbRqWvxedh"
      },
      "execution_count": 3,
      "outputs": []
    },
    {
      "cell_type": "code",
      "source": [
        "Scrape(url, output_file)"
      ],
      "metadata": {
        "colab": {
          "base_uri": "https://localhost:8080/"
        },
        "id": "0g2zftHR3ngV",
        "outputId": "10843b88-23be-43ae-9e80-2e8e6899738a"
      },
      "execution_count": 4,
      "outputs": [
        {
          "output_type": "stream",
          "name": "stderr",
          "text": [
            "Scraping pages: 100%|██████████| 578/578 [07:26<00:00,  1.29it/s]\n"
          ]
        }
      ]
    },
    {
      "cell_type": "code",
      "source": [
        "#Delete duplicates\n",
        "with open(output_file, \"r\", encoding=\"utf-8\") as f:\n",
        "    lines = f.readlines()\n",
        "    unique_lines = list(set(lines))\n",
        "\n",
        "with open(output_file, \"w\", encoding=\"utf-8\") as f:\n",
        "    f.writelines(unique_lines)"
      ],
      "metadata": {
        "id": "nEoVEZ2EB9JG"
      },
      "execution_count": 6,
      "outputs": []
    }
  ]
}